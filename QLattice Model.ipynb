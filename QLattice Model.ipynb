{
 "cells": [
  {
   "cell_type": "code",
   "execution_count": 1,
   "metadata": {},
   "outputs": [],
   "source": [
    "import pandas as pd\n",
    "import numpy as np\n",
    "import matplotlib.pyplot as plt\n",
    "from matplotlib.patches import Patch\n",
    "import seaborn as sns\n",
    "\n",
    "%matplotlib inline\n",
    "sns.set_style('whitegrid')\n",
    "sns.set_context('talk')\n",
    "sns.set_palette('husl')\n",
    "\n",
    "import warnings\n",
    "warnings.filterwarnings('ignore')"
   ]
  },
  {
   "cell_type": "code",
   "execution_count": 2,
   "metadata": {},
   "outputs": [],
   "source": [
    "loan = pd.read_csv('loan_df.csv')\n",
    "pd.set_option('display.max_columns', None)"
   ]
  },
  {
   "cell_type": "code",
   "execution_count": 6,
   "metadata": {},
   "outputs": [
    {
     "data": {
      "text/plain": [
       "Unnamed: 0                  int64\n",
       "loan_amnt                 float64\n",
       "term_is_36m                 int64\n",
       "int_rate                  float64\n",
       "installment               float64\n",
       "emp_length                  int64\n",
       "annual_inc                float64\n",
       "is_default                  int64\n",
       "dti                       float64\n",
       "open_acc                  float64\n",
       "pub_rec                   float64\n",
       "revol_bal                 float64\n",
       "revol_util                float64\n",
       "total_acc                 float64\n",
       "list_status_w               int64\n",
       "mort_acc                  float64\n",
       "pub_rec_bankruptcies      float64\n",
       "verification_encoder      float64\n",
       "application_encoder       float64\n",
       "home_ownership_encoder    float64\n",
       "purpose_encoder           float64\n",
       "grade_encoder             float64\n",
       "dtype: object"
      ]
     },
     "execution_count": 6,
     "metadata": {},
     "output_type": "execute_result"
    }
   ],
   "source": [
    "loan.dtypes"
   ]
  },
  {
   "cell_type": "code",
   "execution_count": 82,
   "metadata": {},
   "outputs": [],
   "source": [
    "df = loan[['int_rate', 'total_acc', 'revol_util', 'grade_encoder', 'dti', 'emp_length', 'is_default']]"
   ]
  },
  {
   "cell_type": "code",
   "execution_count": 83,
   "metadata": {},
   "outputs": [],
   "source": [
    "from feyn import QLattice\n",
    "from feyn.metrics import confusion_matrix, accuracy_score\n",
    "from sklearn.model_selection import train_test_split\n",
    "\n",
    "train, test = train_test_split(df, test_size=0.25, random_state=42)\n",
    "\n",
    "train_X = train.drop('is_default', axis=1)\n",
    "train_y = train['is_default']\n"
   ]
  },
  {
   "cell_type": "code",
   "execution_count": 84,
   "metadata": {},
   "outputs": [],
   "source": [
    "from imblearn.over_sampling import ADASYN\n",
    "\n",
    "ada = ADASYN(random_state=42)\n",
    "\n",
    "X_train_SMOTENC, y_train_SMOTENC = ada.fit_resample(train_X, train_y, \n",
    "                                                    )"
   ]
  },
  {
   "cell_type": "code",
   "execution_count": 87,
   "metadata": {},
   "outputs": [
    {
     "data": {
      "image/png": "[encoded data removed]",
      "text/plain": [
       "<Figure size 800x550 with 1 Axes>"
      ]
     },
     "metadata": {},
     "output_type": "display_data"
    }
   ],
   "source": [
    "from yellowbrick.target import ClassBalance\n",
    "\n",
    "def classbalance(y):\n",
    "    alass = ClassBalance(labels=['Not Default', 'Default'])\n",
    "    alass.fit(y)\n",
    "    alass.show()\n",
    "\n",
    "classbalance(y_train_SMOTENC)"
   ]
  },
  {
   "cell_type": "code",
   "execution_count": 88,
   "metadata": {},
   "outputs": [
    {
     "name": "stdout",
     "output_type": "stream",
     "text": [
      "(297006, 7) (99003, 7)\n"
     ]
    }
   ],
   "source": [
    "print(train.shape, test.shape)"
   ]
  },
  {
   "cell_type": "code",
   "execution_count": 89,
   "metadata": {},
   "outputs": [
    {
     "name": "stdout",
     "output_type": "stream",
     "text": [
      "(464691, 6) (464691,)\n"
     ]
    }
   ],
   "source": [
    "print(X_train_SMOTENC.shape, y_train_SMOTENC.shape)"
   ]
  },
  {
   "cell_type": "code",
   "execution_count": 16,
   "metadata": {},
   "outputs": [],
   "source": [
    "qlattice = QLattice(url='your_qlattice_url', api_token='your_api_token')"
   ]
  },
  {
   "cell_type": "code",
   "execution_count": 94,
   "metadata": {},
   "outputs": [
    {
     "data": {
      "text/html": [
       "<div>\n",
       "<style scoped>\n",
       "    .dataframe tbody tr th:only-of-type {\n",
       "        vertical-align: middle;\n",
       "    }\n",
       "\n",
       "    .dataframe tbody tr th {\n",
       "        vertical-align: top;\n",
       "    }\n",
       "\n",
       "    .dataframe thead th {\n",
       "        text-align: right;\n",
       "    }\n",
       "</style>\n",
       "<table border=\"1\" class=\"dataframe\">\n",
       "  <thead>\n",
       "    <tr style=\"text-align: right;\">\n",
       "      <th></th>\n",
       "      <th>int_rate</th>\n",
       "      <th>total_acc</th>\n",
       "      <th>revol_util</th>\n",
       "      <th>grade_encoder</th>\n",
       "      <th>dti</th>\n",
       "      <th>emp_length</th>\n",
       "      <th>is_default</th>\n",
       "    </tr>\n",
       "  </thead>\n",
       "  <tbody>\n",
       "    <tr>\n",
       "      <th>0</th>\n",
       "      <td>14.59</td>\n",
       "      <td>14.0</td>\n",
       "      <td>73.8</td>\n",
       "      <td>0.288678</td>\n",
       "      <td>17.71</td>\n",
       "      <td>2</td>\n",
       "      <td>0</td>\n",
       "    </tr>\n",
       "  </tbody>\n",
       "</table>\n",
       "</div>"
      ],
      "text/plain": [
       "   int_rate  total_acc  revol_util  grade_encoder    dti  emp_length  \\\n",
       "0     14.59       14.0        73.8       0.288678  17.71           2   \n",
       "\n",
       "   is_default  \n",
       "0           0  "
      ]
     },
     "execution_count": 94,
     "metadata": {},
     "output_type": "execute_result"
    }
   ],
   "source": [
    "train_df = pd.concat([X_train_SMOTENC, y_train_SMOTENC], axis=1)\n",
    "train_df.head(1)"
   ]
  },
  {
   "cell_type": "code",
   "execution_count": 96,
   "metadata": {},
   "outputs": [],
   "source": [
    "target = 'is_default'\n",
    "graph = qlattice.get_regressor(train_df, output=target)"
   ]
  },
  {
   "cell_type": "code",
   "execution_count": 97,
   "metadata": {},
   "outputs": [
    {
     "data": {
      "text/plain": [
       "[_feyn.Graph (13 interactions),\n",
       " _feyn.Graph (3 interactions),\n",
       " _feyn.Graph (6 interactions)]"
      ]
     },
     "execution_count": 97,
     "metadata": {},
     "output_type": "execute_result"
    }
   ],
   "source": [
    "graph.best()"
   ]
  },
  {
   "cell_type": "code",
   "execution_count": 98,
   "metadata": {},
   "outputs": [
    {
     "data": {
      "image/svg+xml": [
       "<?xml version=\"1.0\" encoding=\"utf-8\" ?>\n",
       "<svg baseProfile=\"tiny\" height=\"195.0\" version=\"1.2\" width=\"811\" xmlns=\"http://www.w3.org/2000/svg\" xmlns:ev=\"http://www.w3.org/2001/xml-events\" xmlns:xlink=\"http://www.w3.org/1999/xlink\"><defs /><rect fill=\"#00F082\" height=\"30\" stroke=\"#808080\" stroke-width=\"1\" width=\"80\" x=\"1\" y=\"125.0\"><title>(13, -1, -1)\n",
       "dti\n",
       "linear:\n",
       "w=1.000000\n",
       "bias=0.0000</title></rect><text fill=\"#202020\" font-family=\"monospace\" font-size=\"11\" text-anchor=\"middle\" x=\"41.0\" y=\"144.0\">dti</text><rect fill=\"#00F082\" height=\"30\" stroke=\"#808080\" stroke-width=\"1\" width=\"80\" x=\"1\" y=\"5.0\"><title>(22, -1, -1)\n",
       "grade_encoder\n",
       "linear:\n",
       "w=1.000000\n",
       "bias=0.0000</title></rect><text fill=\"#202020\" font-family=\"monospace\" font-size=\"11\" text-anchor=\"middle\" x=\"41.0\" y=\"24.0\">grade_enco..</text><rect fill=\"#00F082\" height=\"30\" stroke=\"#808080\" stroke-width=\"1\" width=\"80\" x=\"1\" y=\"65.0\"><title>(12, -1, -1)\n",
       "int_rate\n",
       "linear:\n",
       "w=1.000000\n",
       "bias=0.0000</title></rect><text fill=\"#202020\" font-family=\"monospace\" font-size=\"11\" text-anchor=\"middle\" x=\"41.0\" y=\"84.0\">int_rate</text><rect fill=\"#FAFAFA\" height=\"30\" stroke=\"#ff1ec8\" stroke-width=\"1\" width=\"80\" x=\"121\" y=\"5.0\"><title>(19, 5, 4)\n",
       "cell:multiply(i,i)-&gt;i</title></rect><text fill=\"#202020\" font-family=\"monospace\" font-size=\"11\" text-anchor=\"middle\" x=\"161.0\" y=\"24.0\">multiply</text><line stroke=\"#c0c0c0\" x1=\"81\" x2=\"121\" y1=\"20.0\" y2=\"29.0\" /><text fill=\"#202020\" font-family=\"monospace\" font-size=\"7\" text-anchor=\"middle\" x=\"126\" y=\"32.0\">x0</text><line stroke=\"#c0c0c0\" x1=\"81\" x2=\"121\" y1=\"140.0\" y2=\"11.0\" /><text fill=\"#202020\" font-family=\"monospace\" font-size=\"7\" text-anchor=\"middle\" x=\"126\" y=\"14.0\">x1</text><rect fill=\"#FAFAFA\" height=\"30\" stroke=\"#ff1ec8\" stroke-width=\"1\" width=\"80\" x=\"121\" y=\"65.0\"><title>(19, 8, 5)\n",
       "cell:exp(i)-&gt;i</title></rect><text fill=\"#202020\" font-family=\"monospace\" font-size=\"11\" text-anchor=\"middle\" x=\"161.0\" y=\"84.0\">exp</text><line stroke=\"#c0c0c0\" x1=\"81\" x2=\"121\" y1=\"80.0\" y2=\"80.0\" /><text fill=\"#202020\" font-family=\"monospace\" font-size=\"7\" text-anchor=\"middle\" x=\"126\" y=\"83.0\">x0</text><rect fill=\"#FAFAFA\" height=\"30\" stroke=\"#ff1ec8\" stroke-width=\"1\" width=\"80\" x=\"121\" y=\"125.0\"><title>(19, 9, 5)\n",
       "w: 0.38\n",
       "bias: 0.12</title></rect><text fill=\"#202020\" font-family=\"monospace\" font-size=\"11\" text-anchor=\"middle\" x=\"161.0\" y=\"144.0\">linear</text><line stroke=\"#c0c0c0\" x1=\"81\" x2=\"121\" y1=\"140.0\" y2=\"140.0\" /><text fill=\"#202020\" font-family=\"monospace\" font-size=\"7\" text-anchor=\"middle\" x=\"126\" y=\"143.0\">x0</text><rect fill=\"#FAFAFA\" height=\"30\" stroke=\"#ff1ec8\" stroke-width=\"1\" width=\"80\" x=\"241\" y=\"35.0\"><title>(0, 6, 3)\n",
       "cell:exp(i)-&gt;i</title></rect><text fill=\"#202020\" font-family=\"monospace\" font-size=\"11\" text-anchor=\"middle\" x=\"281.0\" y=\"54.0\">exp</text><line stroke=\"#c0c0c0\" x1=\"201\" x2=\"241\" y1=\"20.0\" y2=\"50.0\" /><text fill=\"#202020\" font-family=\"monospace\" font-size=\"7\" text-anchor=\"middle\" x=\"246\" y=\"53.0\">x0</text><rect fill=\"#FAFAFA\" height=\"30\" stroke=\"#ff1ec8\" stroke-width=\"1\" width=\"80\" x=\"241\" y=\"95.0\"><title>(0, 8, 4)\n",
       "center: 0.00, 0.00\n",
       "width: 0.50, 0.50</title></rect><text fill=\"#202020\" font-family=\"monospace\" font-size=\"11\" text-anchor=\"middle\" x=\"281.0\" y=\"114.0\">gaussian</text><line stroke=\"#c0c0c0\" x1=\"201\" x2=\"241\" y1=\"140.0\" y2=\"119.0\" /><text fill=\"#202020\" font-family=\"monospace\" font-size=\"7\" text-anchor=\"middle\" x=\"246\" y=\"122.0\">x0</text><line stroke=\"#c0c0c0\" x1=\"201\" x2=\"241\" y1=\"80.0\" y2=\"101.0\" /><text fill=\"#202020\" font-family=\"monospace\" font-size=\"7\" text-anchor=\"middle\" x=\"246\" y=\"104.0\">x1</text><rect fill=\"#FAFAFA\" height=\"30\" stroke=\"#ff1ec8\" stroke-width=\"1\" width=\"80\" x=\"361\" y=\"35.0\"><title>(1, 6, 4)\n",
       "center: 0.00\n",
       "width: 0.50</title></rect><text fill=\"#202020\" font-family=\"monospace\" font-size=\"11\" text-anchor=\"middle\" x=\"401.0\" y=\"54.0\">gaussian</text><line stroke=\"#c0c0c0\" x1=\"321\" x2=\"361\" y1=\"50.0\" y2=\"50.0\" /><text fill=\"#202020\" font-family=\"monospace\" font-size=\"7\" text-anchor=\"middle\" x=\"366\" y=\"53.0\">x0</text><rect fill=\"#FAFAFA\" height=\"30\" stroke=\"#ff1ec8\" stroke-width=\"1\" width=\"80\" x=\"361\" y=\"95.0\"><title>(1, 8, 4)\n",
       "center: 0.00\n",
       "width: 0.50</title></rect><text fill=\"#202020\" font-family=\"monospace\" font-size=\"11\" text-anchor=\"middle\" x=\"401.0\" y=\"114.0\">gaussian</text><line stroke=\"#c0c0c0\" x1=\"321\" x2=\"361\" y1=\"110.0\" y2=\"110.0\" /><text fill=\"#202020\" font-family=\"monospace\" font-size=\"7\" text-anchor=\"middle\" x=\"366\" y=\"113.0\">x0</text><rect fill=\"#FAFAFA\" height=\"30\" stroke=\"#ff1ec8\" stroke-width=\"1\" width=\"80\" x=\"481\" y=\"65.0\"><title>(2, 7, 4)\n",
       "cell:add(i,i)-&gt;i</title></rect><text fill=\"#202020\" font-family=\"monospace\" font-size=\"11\" text-anchor=\"middle\" x=\"521.0\" y=\"84.0\">add</text><line stroke=\"#c0c0c0\" x1=\"441\" x2=\"481\" y1=\"110.0\" y2=\"89.0\" /><text fill=\"#202020\" font-family=\"monospace\" font-size=\"7\" text-anchor=\"middle\" x=\"486\" y=\"92.0\">x0</text><line stroke=\"#c0c0c0\" x1=\"441\" x2=\"481\" y1=\"50.0\" y2=\"71.0\" /><text fill=\"#202020\" font-family=\"monospace\" font-size=\"7\" text-anchor=\"middle\" x=\"486\" y=\"74.0\">x1</text><rect fill=\"#FAFAFA\" height=\"30\" stroke=\"#ff1ec8\" stroke-width=\"1\" width=\"80\" x=\"601\" y=\"65.0\"><title>(3, 7, 3)\n",
       "center: 0.00\n",
       "width: 0.50</title></rect><text fill=\"#202020\" font-family=\"monospace\" font-size=\"11\" text-anchor=\"middle\" x=\"641.0\" y=\"84.0\">gaussian</text><line stroke=\"#c0c0c0\" x1=\"561\" x2=\"601\" y1=\"80.0\" y2=\"80.0\" /><text fill=\"#202020\" font-family=\"monospace\" font-size=\"7\" text-anchor=\"middle\" x=\"606\" y=\"83.0\">x0</text><rect fill=\"#00F082\" height=\"30\" stroke=\"#808080\" stroke-width=\"1\" width=\"80\" x=\"721\" y=\"65.0\"><title>(4, 7, 3)\n",
       "is_default\n",
       "linear:\n",
       "scale=1.000000\n",
       "w=1.0000\n",
       "bias=0.0000</title></rect><text fill=\"#202020\" font-family=\"monospace\" font-size=\"11\" text-anchor=\"middle\" x=\"761.0\" y=\"84.0\">is_default</text><line stroke=\"#c0c0c0\" x1=\"681\" x2=\"721\" y1=\"80.0\" y2=\"80.0\" /><text fill=\"#202020\" font-family=\"monospace\" font-size=\"7\" text-anchor=\"middle\" x=\"726\" y=\"83.0\">x0</text><text fill=\"#202020\" font-family=\"monospace\" font-size=\"11\" text-anchor=\"middle\" x=\"761.0\" y=\"107.0\">Loss: NAN</text></svg>"
      ],
      "text/plain": [
       "_feyn.Graph (13 interactions)"
      ]
     },
     "metadata": {},
     "output_type": "display_data"
    },
    {
     "data": {
      "image/svg+xml": [
       "<?xml version=\"1.0\" encoding=\"utf-8\" ?>\n",
       "<svg baseProfile=\"tiny\" height=\"75.0\" version=\"1.2\" width=\"450\" xmlns=\"http://www.w3.org/2000/svg\" xmlns:ev=\"http://www.w3.org/2001/xml-events\" xmlns:xlink=\"http://www.w3.org/1999/xlink\"><defs /><rect fill=\"#00F082\" height=\"30\" stroke=\"#808080\" stroke-width=\"1\" width=\"80\" x=\"1\" y=\"5.0\"><title>(17, -1, -1)\n",
       "emp_length\n",
       "linear:\n",
       "w=1.000000\n",
       "bias=0.0000</title></rect><text fill=\"#202020\" font-family=\"monospace\" font-size=\"11\" text-anchor=\"middle\" x=\"41.0\" y=\"24.0\">emp_length</text><rect fill=\"#FAFAFA\" height=\"30\" stroke=\"#ff1ec8\" stroke-width=\"1\" width=\"80\" x=\"121\" y=\"5.0\"><title>(12, 7, 1)\n",
       "w: 0.11\n",
       "bias: -1.79</title></rect><text fill=\"#202020\" font-family=\"monospace\" font-size=\"11\" text-anchor=\"middle\" x=\"161.0\" y=\"24.0\">linear</text><line stroke=\"#c0c0c0\" x1=\"81\" x2=\"121\" y1=\"20.0\" y2=\"20.0\" /><text fill=\"#202020\" font-family=\"monospace\" font-size=\"7\" text-anchor=\"middle\" x=\"126\" y=\"23.0\">x0</text><rect fill=\"#00F082\" height=\"30\" stroke=\"#808080\" stroke-width=\"1\" width=\"80\" x=\"241\" y=\"5.0\"><title>(13, 8, 2)\n",
       "is_default\n",
       "linear:\n",
       "scale=1.000000\n",
       "w=1.0000\n",
       "bias=0.0000</title></rect><text fill=\"#202020\" font-family=\"monospace\" font-size=\"11\" text-anchor=\"middle\" x=\"281.0\" y=\"24.0\">is_default</text><line stroke=\"#c0c0c0\" x1=\"201\" x2=\"241\" y1=\"20.0\" y2=\"20.0\" /><text fill=\"#202020\" font-family=\"monospace\" font-size=\"7\" text-anchor=\"middle\" x=\"246\" y=\"23.0\">x0</text><text fill=\"#202020\" font-family=\"monospace\" font-size=\"11\" text-anchor=\"middle\" x=\"281.0\" y=\"47.0\">Loss: NAN</text></svg>"
      ],
      "text/plain": [
       "_feyn.Graph (3 interactions)"
      ]
     },
     "metadata": {},
     "output_type": "display_data"
    }
   ],
   "source": [
    "graph.head(2)"
   ]
  },
  {
   "cell_type": "code",
   "execution_count": 101,
   "metadata": {},
   "outputs": [
    {
     "data": {
      "image/svg+xml": [
       "<svg xmlns=\"http://www.w3.org/2000/svg\" xmlns:ev=\"http://www.w3.org/2001/xml-events\" xmlns:xlink=\"http://www.w3.org/1999/xlink\" baseProfile=\"tiny\" height=\"195.0\" version=\"1.2\" width=\"571\"><defs/><rect fill=\"#00F082\" height=\"30\" stroke=\"#808080\" stroke-width=\"1\" width=\"80\" x=\"1\" y=\"65.0\"><title>(13, -1, -1)\n",
       "dti\n",
       "linear:\n",
       "w=0.012234\n",
       "bias=-0.3124</title></rect><text fill=\"#202020\" font-family=\"monospace\" font-size=\"11\" text-anchor=\"middle\" x=\"41.0\" y=\"84.0\">dti</text><rect fill=\"#FAFAFA\" height=\"30\" stroke=\"#ff1ec8\" stroke-width=\"1\" width=\"80\" x=\"121\" y=\"5.0\"><title>(6, 6, 5)\n",
       "w: 0.72\n",
       "bias: 0.59</title></rect><text fill=\"#202020\" font-family=\"monospace\" font-size=\"11\" text-anchor=\"middle\" x=\"161.0\" y=\"24.0\">linear</text><line stroke=\"#c0c0c0\" x1=\"81\" x2=\"121\" y1=\"80.0\" y2=\"20.0\"/><text fill=\"#202020\" font-family=\"monospace\" font-size=\"7\" text-anchor=\"middle\" x=\"126\" y=\"23.0\">x0</text><rect fill=\"#00F082\" height=\"30\" stroke=\"#808080\" stroke-width=\"1\" width=\"80\" x=\"121\" y=\"65.0\"><title>(22, -1, -1)\n",
       "grade_encoder\n",
       "linear:\n",
       "w=5.748369\n",
       "bias=0.4007</title></rect><text fill=\"#202020\" font-family=\"monospace\" font-size=\"11\" text-anchor=\"middle\" x=\"161.0\" y=\"84.0\">grade_enco..</text><rect fill=\"#00F082\" height=\"30\" stroke=\"#808080\" stroke-width=\"1\" width=\"80\" x=\"121\" y=\"125.0\"><title>(17, -1, -1)\n",
       "emp_length\n",
       "linear:\n",
       "w=0.211418\n",
       "bias=-0.9213</title></rect><text fill=\"#202020\" font-family=\"monospace\" font-size=\"11\" text-anchor=\"middle\" x=\"161.0\" y=\"144.0\">emp_length</text><rect fill=\"#FAFAFA\" height=\"30\" stroke=\"#ff1ec8\" stroke-width=\"1\" width=\"80\" x=\"241\" y=\"35.0\"><title>(7, 5, 3)\n",
       "cell:multiply(i,i)-&gt;i</title></rect><text fill=\"#202020\" font-family=\"monospace\" font-size=\"11\" text-anchor=\"middle\" x=\"281.0\" y=\"54.0\">multiply</text><line stroke=\"#c0c0c0\" x1=\"201\" x2=\"241\" y1=\"80.0\" y2=\"59.0\"/><text fill=\"#202020\" font-family=\"monospace\" font-size=\"7\" text-anchor=\"middle\" x=\"246\" y=\"62.0\">x0</text><line stroke=\"#c0c0c0\" x1=\"201\" x2=\"241\" y1=\"20.0\" y2=\"41.0\"/><text fill=\"#202020\" font-family=\"monospace\" font-size=\"7\" text-anchor=\"middle\" x=\"246\" y=\"44.0\">x1</text><rect fill=\"#FAFAFA\" height=\"30\" stroke=\"#ff1ec8\" stroke-width=\"1\" width=\"80\" x=\"241\" y=\"95.0\"><title>(7, 3, 2)\n",
       "w: -0.05\n",
       "bias: -0.16</title></rect><text fill=\"#202020\" font-family=\"monospace\" font-size=\"11\" text-anchor=\"middle\" x=\"281.0\" y=\"114.0\">linear</text><line stroke=\"#c0c0c0\" x1=\"201\" x2=\"241\" y1=\"140.0\" y2=\"110.0\"/><text fill=\"#202020\" font-family=\"monospace\" font-size=\"7\" text-anchor=\"middle\" x=\"246\" y=\"113.0\">x0</text><rect fill=\"#FAFAFA\" height=\"30\" stroke=\"#ff1ec8\" stroke-width=\"1\" width=\"80\" x=\"361\" y=\"65.0\"><title>(8, 4, 1)\n",
       "cell:add(i,i)-&gt;i</title></rect><text fill=\"#202020\" font-family=\"monospace\" font-size=\"11\" text-anchor=\"middle\" x=\"401.0\" y=\"84.0\">add</text><line stroke=\"#c0c0c0\" x1=\"321\" x2=\"361\" y1=\"110.0\" y2=\"89.0\"/><text fill=\"#202020\" font-family=\"monospace\" font-size=\"7\" text-anchor=\"middle\" x=\"366\" y=\"92.0\">x0</text><line stroke=\"#c0c0c0\" x1=\"321\" x2=\"361\" y1=\"50.0\" y2=\"71.0\"/><text fill=\"#202020\" font-family=\"monospace\" font-size=\"7\" text-anchor=\"middle\" x=\"366\" y=\"74.0\">x1</text><rect fill=\"#00F082\" height=\"30\" stroke=\"#808080\" stroke-width=\"1\" width=\"80\" x=\"481\" y=\"65.0\"><title>(9, 4, 0)\n",
       "is_default\n",
       "linear:\n",
       "scale=0.500000\n",
       "w=0.6357\n",
       "bias=0.0000</title></rect><text fill=\"#202020\" font-family=\"monospace\" font-size=\"11\" text-anchor=\"middle\" x=\"521.0\" y=\"84.0\">is_default</text><line stroke=\"#c0c0c0\" x1=\"441\" x2=\"481\" y1=\"80.0\" y2=\"80.0\"/><text fill=\"#202020\" font-family=\"monospace\" font-size=\"7\" text-anchor=\"middle\" x=\"486\" y=\"83.0\">x0</text><text fill=\"#202020\" font-family=\"monospace\" font-size=\"12\" x=\"0\" y=\"183.0\">Fitting 12: 100% completed. Best loss so far: 0.457459</text><text fill=\"#202020\" font-family=\"monospace\" font-size=\"11\" text-anchor=\"middle\" x=\"521.0\" y=\"107.0\">Loss: 4.57E-01</text></svg>"
      ],
      "text/plain": [
       "<IPython.core.display.SVG object>"
      ]
     },
     "metadata": {},
     "output_type": "display_data"
    }
   ],
   "source": [
    "updates = 10\n",
    "\n",
    "for _ in range(updates):\n",
    "    graph.fit(train, loss_function='binary_cross_entropy', threads=8)\n",
    "    best_graphs = graph.best()\n",
    "    qlattice.update(best_graphs)"
   ]
  },
  {
   "cell_type": "code",
   "execution_count": 102,
   "metadata": {},
   "outputs": [
    {
     "data": {
      "image/svg+xml": [
       "<?xml version=\"1.0\" encoding=\"utf-8\" ?>\n",
       "<svg baseProfile=\"tiny\" height=\"195.0\" version=\"1.2\" width=\"571\" xmlns=\"http://www.w3.org/2000/svg\" xmlns:ev=\"http://www.w3.org/2001/xml-events\" xmlns:xlink=\"http://www.w3.org/1999/xlink\"><defs /><rect fill=\"#00F082\" height=\"30\" stroke=\"#808080\" stroke-width=\"1\" width=\"80\" x=\"1\" y=\"65.0\"><title>(13, -1, -1)\n",
       "dti\n",
       "linear:\n",
       "w=0.012234\n",
       "bias=-0.3124</title></rect><text fill=\"#202020\" font-family=\"monospace\" font-size=\"11\" text-anchor=\"middle\" x=\"41.0\" y=\"84.0\">dti</text><rect fill=\"#FAFAFA\" height=\"30\" stroke=\"#ff1ec8\" stroke-width=\"1\" width=\"80\" x=\"121\" y=\"5.0\"><title>(6, 6, 5)\n",
       "w: 0.72\n",
       "bias: 0.59</title></rect><text fill=\"#202020\" font-family=\"monospace\" font-size=\"11\" text-anchor=\"middle\" x=\"161.0\" y=\"24.0\">linear</text><line stroke=\"#c0c0c0\" x1=\"81\" x2=\"121\" y1=\"80.0\" y2=\"20.0\" /><text fill=\"#202020\" font-family=\"monospace\" font-size=\"7\" text-anchor=\"middle\" x=\"126\" y=\"23.0\">x0</text><rect fill=\"#00F082\" height=\"30\" stroke=\"#808080\" stroke-width=\"1\" width=\"80\" x=\"121\" y=\"65.0\"><title>(22, -1, -1)\n",
       "grade_encoder\n",
       "linear:\n",
       "w=5.748369\n",
       "bias=0.4007</title></rect><text fill=\"#202020\" font-family=\"monospace\" font-size=\"11\" text-anchor=\"middle\" x=\"161.0\" y=\"84.0\">grade_enco..</text><rect fill=\"#00F082\" height=\"30\" stroke=\"#808080\" stroke-width=\"1\" width=\"80\" x=\"121\" y=\"125.0\"><title>(17, -1, -1)\n",
       "emp_length\n",
       "linear:\n",
       "w=0.211418\n",
       "bias=-0.9213</title></rect><text fill=\"#202020\" font-family=\"monospace\" font-size=\"11\" text-anchor=\"middle\" x=\"161.0\" y=\"144.0\">emp_length</text><rect fill=\"#FAFAFA\" height=\"30\" stroke=\"#ff1ec8\" stroke-width=\"1\" width=\"80\" x=\"241\" y=\"35.0\"><title>(7, 5, 3)\n",
       "cell:multiply(i,i)-&gt;i</title></rect><text fill=\"#202020\" font-family=\"monospace\" font-size=\"11\" text-anchor=\"middle\" x=\"281.0\" y=\"54.0\">multiply</text><line stroke=\"#c0c0c0\" x1=\"201\" x2=\"241\" y1=\"80.0\" y2=\"59.0\" /><text fill=\"#202020\" font-family=\"monospace\" font-size=\"7\" text-anchor=\"middle\" x=\"246\" y=\"62.0\">x0</text><line stroke=\"#c0c0c0\" x1=\"201\" x2=\"241\" y1=\"20.0\" y2=\"41.0\" /><text fill=\"#202020\" font-family=\"monospace\" font-size=\"7\" text-anchor=\"middle\" x=\"246\" y=\"44.0\">x1</text><rect fill=\"#FAFAFA\" height=\"30\" stroke=\"#ff1ec8\" stroke-width=\"1\" width=\"80\" x=\"241\" y=\"95.0\"><title>(7, 3, 2)\n",
       "w: -0.05\n",
       "bias: -0.16</title></rect><text fill=\"#202020\" font-family=\"monospace\" font-size=\"11\" text-anchor=\"middle\" x=\"281.0\" y=\"114.0\">linear</text><line stroke=\"#c0c0c0\" x1=\"201\" x2=\"241\" y1=\"140.0\" y2=\"110.0\" /><text fill=\"#202020\" font-family=\"monospace\" font-size=\"7\" text-anchor=\"middle\" x=\"246\" y=\"113.0\">x0</text><rect fill=\"#FAFAFA\" height=\"30\" stroke=\"#ff1ec8\" stroke-width=\"1\" width=\"80\" x=\"361\" y=\"65.0\"><title>(8, 4, 1)\n",
       "cell:add(i,i)-&gt;i</title></rect><text fill=\"#202020\" font-family=\"monospace\" font-size=\"11\" text-anchor=\"middle\" x=\"401.0\" y=\"84.0\">add</text><line stroke=\"#c0c0c0\" x1=\"321\" x2=\"361\" y1=\"110.0\" y2=\"89.0\" /><text fill=\"#202020\" font-family=\"monospace\" font-size=\"7\" text-anchor=\"middle\" x=\"366\" y=\"92.0\">x0</text><line stroke=\"#c0c0c0\" x1=\"321\" x2=\"361\" y1=\"50.0\" y2=\"71.0\" /><text fill=\"#202020\" font-family=\"monospace\" font-size=\"7\" text-anchor=\"middle\" x=\"366\" y=\"74.0\">x1</text><rect fill=\"#00F082\" height=\"30\" stroke=\"#808080\" stroke-width=\"1\" width=\"80\" x=\"481\" y=\"65.0\"><title>(9, 4, 0)\n",
       "is_default\n",
       "linear:\n",
       "scale=0.500000\n",
       "w=0.6357\n",
       "bias=0.0000</title></rect><text fill=\"#202020\" font-family=\"monospace\" font-size=\"11\" text-anchor=\"middle\" x=\"521.0\" y=\"84.0\">is_default</text><line stroke=\"#c0c0c0\" x1=\"441\" x2=\"481\" y1=\"80.0\" y2=\"80.0\" /><text fill=\"#202020\" font-family=\"monospace\" font-size=\"7\" text-anchor=\"middle\" x=\"486\" y=\"83.0\">x0</text><text fill=\"#202020\" font-family=\"monospace\" font-size=\"11\" text-anchor=\"middle\" x=\"521.0\" y=\"107.0\">Loss: 4.57E-01</text></svg>"
      ],
      "text/plain": [
       "_feyn.Graph (8 interactions)"
      ]
     },
     "execution_count": 102,
     "metadata": {},
     "output_type": "execute_result"
    }
   ],
   "source": [
    "best_graph = best_graphs[0]\n",
    "best_graph"
   ]
  },
  {
   "cell_type": "code",
   "execution_count": 103,
   "metadata": {},
   "outputs": [],
   "source": [
    "preds = best_graph.predict(test)\n",
    "preds = preds.round()"
   ]
  },
  {
   "cell_type": "code",
   "execution_count": 104,
   "metadata": {},
   "outputs": [
    {
     "data": {
      "text/plain": [
       "0.8041473490702302"
      ]
     },
     "execution_count": 104,
     "metadata": {},
     "output_type": "execute_result"
    }
   ],
   "source": [
    "accuracy_score(test['is_default'], preds)"
   ]
  },
  {
   "cell_type": "code",
   "execution_count": 105,
   "metadata": {},
   "outputs": [
    {
     "data": {
      "text/plain": [
       "array([[79103,   484],\n",
       "       [18906,   510]])"
      ]
     },
     "execution_count": 105,
     "metadata": {},
     "output_type": "execute_result"
    }
   ],
   "source": [
    "confusion_matrix(test['is_default'], preds)"
   ]
  },
  {
   "cell_type": "code",
   "execution_count": 106,
   "metadata": {},
   "outputs": [
    {
     "data": {
      "image/png": "[encoded data removed]",
      "text/plain": [
       "<Figure size 800x550 with 1 Axes>"
      ]
     },
     "metadata": {},
     "output_type": "display_data"
    }
   ],
   "source": [
    "feyn.plots.plot_roc_curve(test['is_default'], preds, title='ROC curve')"
   ]
  },
  {
   "cell_type": "code",
   "execution_count": 59,
   "metadata": {},
   "outputs": [],
   "source": [
    "from sklearn.metrics import classification_report"
   ]
  },
  {
   "cell_type": "code",
   "execution_count": 107,
   "metadata": {},
   "outputs": [
    {
     "name": "stdout",
     "output_type": "stream",
     "text": [
      "              precision    recall  f1-score   support\n",
      "\n",
      "           0       0.81      0.99      0.89     79587\n",
      "           1       0.51      0.03      0.05     19416\n",
      "\n",
      "    accuracy                           0.80     99003\n",
      "   macro avg       0.66      0.51      0.47     99003\n",
      "weighted avg       0.75      0.80      0.73     99003\n",
      "\n"
     ]
    }
   ],
   "source": [
    "print(classification_report(test['is_default'], preds))"
   ]
  },
  {
   "cell_type": "code",
   "execution_count": null,
   "metadata": {},
   "outputs": [],
   "source": []
  }
 ],
 "metadata": {
  "kernelspec": {
   "display_name": "Python 3",
   "language": "python",
   "name": "python3"
  },
  "language_info": {
   "codemirror_mode": {
    "name": "ipython",
    "version": 3
   },
   "file_extension": ".py",
   "mimetype": "text/x-python",
   "name": "python",
   "nbconvert_exporter": "python",
   "pygments_lexer": "ipython3",
   "version": "3.8.3"
  }
 },
 "nbformat": 4,
 "nbformat_minor": 4
}
