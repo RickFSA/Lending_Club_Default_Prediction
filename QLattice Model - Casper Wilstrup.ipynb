{
 "cells": [
  {
   "cell_type": "code",
   "execution_count": 1,
   "metadata": {},
   "outputs": [],
   "source": [
    "import pandas as pd\n",
    "import numpy as np\n",
    "\n",
    "import warnings\n",
    "warnings.filterwarnings('ignore')"
   ]
  },
  {
   "cell_type": "code",
   "execution_count": 2,
   "metadata": {},
   "outputs": [],
   "source": [
    "loan = pd.read_csv('loan_df.csv')\n",
    "pd.set_option('display.max_columns', None)"
   ]
  },
  {
   "cell_type": "code",
   "execution_count": 3,
   "metadata": {},
   "outputs": [
    {
     "data": {
      "text/plain": [
       "Unnamed: 0                  int64\n",
       "loan_amnt                 float64\n",
       "term_is_36m                 int64\n",
       "int_rate                  float64\n",
       "installment               float64\n",
       "emp_length                  int64\n",
       "annual_inc                float64\n",
       "is_default                  int64\n",
       "dti                       float64\n",
       "open_acc                  float64\n",
       "pub_rec                   float64\n",
       "revol_bal                 float64\n",
       "revol_util                float64\n",
       "total_acc                 float64\n",
       "list_status_w               int64\n",
       "mort_acc                  float64\n",
       "pub_rec_bankruptcies      float64\n",
       "verification_encoder      float64\n",
       "application_encoder       float64\n",
       "home_ownership_encoder    float64\n",
       "purpose_encoder           float64\n",
       "grade_encoder             float64\n",
       "dtype: object"
      ]
     },
     "execution_count": 3,
     "metadata": {},
     "output_type": "execute_result"
    }
   ],
   "source": [
    "loan.dtypes"
   ]
  },
  {
   "cell_type": "code",
   "execution_count": 4,
   "metadata": {},
   "outputs": [],
   "source": [
    "df = loan[['int_rate', 'total_acc', 'revol_util', 'grade_encoder', 'dti', 'emp_length', 'is_default']]"
   ]
  },
  {
   "cell_type": "code",
   "execution_count": 5,
   "metadata": {},
   "outputs": [
    {
     "data": {
      "text/html": [
       "<div>\n",
       "<style scoped>\n",
       "    .dataframe tbody tr th:only-of-type {\n",
       "        vertical-align: middle;\n",
       "    }\n",
       "\n",
       "    .dataframe tbody tr th {\n",
       "        vertical-align: top;\n",
       "    }\n",
       "\n",
       "    .dataframe thead th {\n",
       "        text-align: right;\n",
       "    }\n",
       "</style>\n",
       "<table border=\"1\" class=\"dataframe\">\n",
       "  <thead>\n",
       "    <tr style=\"text-align: right;\">\n",
       "      <th></th>\n",
       "      <th>int_rate</th>\n",
       "      <th>total_acc</th>\n",
       "      <th>revol_util</th>\n",
       "      <th>grade_encoder</th>\n",
       "      <th>dti</th>\n",
       "      <th>emp_length</th>\n",
       "      <th>is_default</th>\n",
       "    </tr>\n",
       "  </thead>\n",
       "  <tbody>\n",
       "    <tr>\n",
       "      <th>197588</th>\n",
       "      <td>14.59</td>\n",
       "      <td>14.0</td>\n",
       "      <td>73.8</td>\n",
       "      <td>0.288678</td>\n",
       "      <td>17.71</td>\n",
       "      <td>2</td>\n",
       "      <td>0</td>\n",
       "    </tr>\n",
       "    <tr>\n",
       "      <th>19176</th>\n",
       "      <td>8.90</td>\n",
       "      <td>20.0</td>\n",
       "      <td>75.1</td>\n",
       "      <td>0.062885</td>\n",
       "      <td>9.08</td>\n",
       "      <td>2</td>\n",
       "      <td>0</td>\n",
       "    </tr>\n",
       "    <tr>\n",
       "      <th>378126</th>\n",
       "      <td>23.70</td>\n",
       "      <td>21.0</td>\n",
       "      <td>74.4</td>\n",
       "      <td>0.427916</td>\n",
       "      <td>19.91</td>\n",
       "      <td>10</td>\n",
       "      <td>0</td>\n",
       "    </tr>\n",
       "    <tr>\n",
       "      <th>219545</th>\n",
       "      <td>13.98</td>\n",
       "      <td>53.0</td>\n",
       "      <td>54.5</td>\n",
       "      <td>0.211823</td>\n",
       "      <td>23.93</td>\n",
       "      <td>10</td>\n",
       "      <td>0</td>\n",
       "    </tr>\n",
       "    <tr>\n",
       "      <th>156715</th>\n",
       "      <td>8.39</td>\n",
       "      <td>12.0</td>\n",
       "      <td>73.3</td>\n",
       "      <td>0.062885</td>\n",
       "      <td>7.30</td>\n",
       "      <td>1</td>\n",
       "      <td>0</td>\n",
       "    </tr>\n",
       "    <tr>\n",
       "      <th>...</th>\n",
       "      <td>...</td>\n",
       "      <td>...</td>\n",
       "      <td>...</td>\n",
       "      <td>...</td>\n",
       "      <td>...</td>\n",
       "      <td>...</td>\n",
       "      <td>...</td>\n",
       "    </tr>\n",
       "    <tr>\n",
       "      <th>259178</th>\n",
       "      <td>13.35</td>\n",
       "      <td>19.0</td>\n",
       "      <td>57.9</td>\n",
       "      <td>0.211823</td>\n",
       "      <td>10.90</td>\n",
       "      <td>10</td>\n",
       "      <td>0</td>\n",
       "    </tr>\n",
       "    <tr>\n",
       "      <th>365838</th>\n",
       "      <td>14.30</td>\n",
       "      <td>26.0</td>\n",
       "      <td>35.6</td>\n",
       "      <td>0.211823</td>\n",
       "      <td>23.83</td>\n",
       "      <td>1</td>\n",
       "      <td>0</td>\n",
       "    </tr>\n",
       "    <tr>\n",
       "      <th>131932</th>\n",
       "      <td>19.72</td>\n",
       "      <td>20.0</td>\n",
       "      <td>84.5</td>\n",
       "      <td>0.288678</td>\n",
       "      <td>14.31</td>\n",
       "      <td>10</td>\n",
       "      <td>1</td>\n",
       "    </tr>\n",
       "    <tr>\n",
       "      <th>146867</th>\n",
       "      <td>13.99</td>\n",
       "      <td>27.0</td>\n",
       "      <td>28.8</td>\n",
       "      <td>0.211823</td>\n",
       "      <td>26.46</td>\n",
       "      <td>8</td>\n",
       "      <td>1</td>\n",
       "    </tr>\n",
       "    <tr>\n",
       "      <th>121958</th>\n",
       "      <td>19.19</td>\n",
       "      <td>68.0</td>\n",
       "      <td>56.0</td>\n",
       "      <td>0.373634</td>\n",
       "      <td>33.97</td>\n",
       "      <td>10</td>\n",
       "      <td>0</td>\n",
       "    </tr>\n",
       "  </tbody>\n",
       "</table>\n",
       "<p>297006 rows × 7 columns</p>\n",
       "</div>"
      ],
      "text/plain": [
       "        int_rate  total_acc  revol_util  grade_encoder    dti  emp_length  \\\n",
       "197588     14.59       14.0        73.8       0.288678  17.71           2   \n",
       "19176       8.90       20.0        75.1       0.062885   9.08           2   \n",
       "378126     23.70       21.0        74.4       0.427916  19.91          10   \n",
       "219545     13.98       53.0        54.5       0.211823  23.93          10   \n",
       "156715      8.39       12.0        73.3       0.062885   7.30           1   \n",
       "...          ...        ...         ...            ...    ...         ...   \n",
       "259178     13.35       19.0        57.9       0.211823  10.90          10   \n",
       "365838     14.30       26.0        35.6       0.211823  23.83           1   \n",
       "131932     19.72       20.0        84.5       0.288678  14.31          10   \n",
       "146867     13.99       27.0        28.8       0.211823  26.46           8   \n",
       "121958     19.19       68.0        56.0       0.373634  33.97          10   \n",
       "\n",
       "        is_default  \n",
       "197588           0  \n",
       "19176            0  \n",
       "378126           0  \n",
       "219545           0  \n",
       "156715           0  \n",
       "...            ...  \n",
       "259178           0  \n",
       "365838           0  \n",
       "131932           1  \n",
       "146867           1  \n",
       "121958           0  \n",
       "\n",
       "[297006 rows x 7 columns]"
      ]
     },
     "execution_count": 5,
     "metadata": {},
     "output_type": "execute_result"
    }
   ],
   "source": [
    "import feyn\n",
    "from sklearn.model_selection import train_test_split\n",
    "\n",
    "train, test = train_test_split(df, test_size=0.25, random_state=42)\n",
    "train"
   ]
  },
  {
   "cell_type": "code",
   "execution_count": 6,
   "metadata": {},
   "outputs": [],
   "source": [
    "sample_weights = np.where(train.is_default, 1, .3)\n"
   ]
  },
  {
   "cell_type": "code",
   "execution_count": 7,
   "metadata": {},
   "outputs": [
    {
     "name": "stdout",
     "output_type": "stream",
     "text": [
      "(297006, 7) (99003, 7)\n"
     ]
    }
   ],
   "source": [
    "print(train.shape, test.shape)"
   ]
  },
  {
   "cell_type": "code",
   "execution_count": 8,
   "metadata": {},
   "outputs": [],
   "source": [
    "qlattice = feyn.QLattice()\n",
    "qlattice.reset(0)"
   ]
  },
  {
   "cell_type": "code",
   "execution_count": 9,
   "metadata": {},
   "outputs": [],
   "source": [
    "target = 'is_default'\n",
    "qgraph = qlattice.get_classifier(train, output=target)\n",
    "qgraph = qgraph.filter(feyn.filters.MaxEdges(5))\n"
   ]
  },
  {
   "cell_type": "code",
   "execution_count": 10,
   "metadata": {},
   "outputs": [
    {
     "data": {
      "text/html": [
       "<?xml version=\"1.0\" encoding=\"utf-8\" ?>\n",
       "<svg baseProfile=\"full\" height=\"160.0\" version=\"1.1\" width=\"471\" xmlns=\"http://www.w3.org/2000/svg\" xmlns:ev=\"http://www.w3.org/2001/xml-events\" xmlns:xlink=\"http://www.w3.org/1999/xlink\"><defs /><svg class=\"graph\" height=\"155.0\" width=\"471\" x=\"0\" y=\"0\"><defs /><text fill=\"#1E1E1E\" font-family=\"monospace\" font-size=\"12\" text-anchor=\"middle\" x=\"406.0\" y=\"99.0\">Loss: 9.49E-02</text><text fill=\"#1E1E1E\" font-family=\"monospace\" font-size=\"12\" text-anchor=\"start\" x=\"0\" y=\"145.0\">Fitting 20: Best loss so far: 0.094925</text><rect fill=\"#00F082\" height=\"35\" stroke=\"#1E1E1E\" stroke-width=\"1\" width=\"90\" x=\"1\" y=\"20.0\"><title>(0, -1, -1)\n",
       "int_rate\n",
       "linear:\n",
       "scale=0.079460\n",
       "w=0.448307\n",
       "bias=-1.2051</title></rect><text fill=\"#1E1E1E\" font-family=\"monospace\" font-size=\"12\" text-anchor=\"middle\" x=\"46.0\" y=\"41.5\">int_rate</text><text fill=\"#1E1E1E\" font-family=\"monospace\" font-size=\"10\" text-anchor=\"end\" x=\"89\" y=\"29.0\">0</text><text fill=\"#1E1E1E\" font-family=\"monospace\" font-size=\"10\" text-anchor=\"start\" x=\"3\" y=\"29.0\">num</text><rect fill=\"#00F082\" height=\"35\" stroke=\"#1E1E1E\" stroke-width=\"1\" width=\"90\" x=\"1\" y=\"80.0\"><title>(4, -1, -1)\n",
       "dti\n",
       "linear:\n",
       "scale=0.043601\n",
       "w=0.899126\n",
       "bias=-1.9515</title></rect><text fill=\"#1E1E1E\" font-family=\"monospace\" font-size=\"12\" text-anchor=\"middle\" x=\"46.0\" y=\"101.5\">dti</text><text fill=\"#1E1E1E\" font-family=\"monospace\" font-size=\"10\" text-anchor=\"end\" x=\"89\" y=\"89.0\">1</text><text fill=\"#1E1E1E\" font-family=\"monospace\" font-size=\"10\" text-anchor=\"start\" x=\"3\" y=\"89.0\">num</text><rect fill=\"#FAFAFA\" height=\"35\" stroke=\"#FF1EC8\" stroke-width=\"1\" width=\"90\" x=\"121\" y=\"20.0\"><title>(14, 7, 6)\n",
       "cell:multiply(i,i)-&gt;i</title></rect><text fill=\"#1E1E1E\" font-family=\"monospace\" font-size=\"12\" text-anchor=\"middle\" x=\"166.0\" y=\"41.5\">multiply</text><text fill=\"#1E1E1E\" font-family=\"monospace\" font-size=\"10\" text-anchor=\"end\" x=\"209\" y=\"29.0\">2</text><text fill=\"#1E1E1E\" font-family=\"monospace\" font-size=\"10\" text-anchor=\"start\" x=\"123\" y=\"29.0\" /><line stroke=\"#1E1E1E\" x1=\"91\" x2=\"121\" y1=\"97.5\" y2=\"46.5\" /><text fill=\"#1E1E1E\" font-family=\"monospace\" font-size=\"10\" text-anchor=\"start\" x=\"123\" y=\"49.5\">x0</text><line stroke=\"#1E1E1E\" x1=\"91\" x2=\"121\" y1=\"37.5\" y2=\"28.5\" /><text fill=\"#1E1E1E\" font-family=\"monospace\" font-size=\"10\" text-anchor=\"start\" x=\"123\" y=\"31.5\">x1</text><rect fill=\"#00F082\" height=\"35\" stroke=\"#1E1E1E\" stroke-width=\"1\" width=\"90\" x=\"121\" y=\"80.0\"><title>(3, -1, -1)\n",
       "grade_encoder\n",
       "linear:\n",
       "scale=4.813427\n",
       "w=-1.114902\n",
       "bias=0.5386</title></rect><text fill=\"#1E1E1E\" font-family=\"monospace\" font-size=\"12\" text-anchor=\"middle\" x=\"166.0\" y=\"101.5\">grade_en..</text><text fill=\"#1E1E1E\" font-family=\"monospace\" font-size=\"10\" text-anchor=\"end\" x=\"209\" y=\"89.0\">3</text><text fill=\"#1E1E1E\" font-family=\"monospace\" font-size=\"10\" text-anchor=\"start\" x=\"123\" y=\"89.0\">num</text><rect fill=\"#FAFAFA\" height=\"35\" stroke=\"#FF1EC8\" stroke-width=\"1\" width=\"90\" x=\"241\" y=\"50.0\"><title>(15, 0, 4)\n",
       "cell:add(i,i)-&gt;i</title></rect><text fill=\"#1E1E1E\" font-family=\"monospace\" font-size=\"12\" text-anchor=\"middle\" x=\"286.0\" y=\"71.5\">add</text><text fill=\"#1E1E1E\" font-family=\"monospace\" font-size=\"10\" text-anchor=\"end\" x=\"329\" y=\"59.0\">4</text><text fill=\"#1E1E1E\" font-family=\"monospace\" font-size=\"10\" text-anchor=\"start\" x=\"243\" y=\"59.0\" /><line stroke=\"#1E1E1E\" x1=\"211\" x2=\"241\" y1=\"97.5\" y2=\"76.5\" /><text fill=\"#1E1E1E\" font-family=\"monospace\" font-size=\"10\" text-anchor=\"start\" x=\"243\" y=\"79.5\">x0</text><line stroke=\"#1E1E1E\" x1=\"211\" x2=\"241\" y1=\"37.5\" y2=\"58.5\" /><text fill=\"#1E1E1E\" font-family=\"monospace\" font-size=\"10\" text-anchor=\"start\" x=\"243\" y=\"61.5\">x1</text><rect fill=\"#00F082\" height=\"35\" stroke=\"#1E1E1E\" stroke-width=\"1\" width=\"90\" x=\"361\" y=\"50.0\"><title>(16, 7, 3)\n",
       "is_default\n",
       "logistic:\n",
       "w=-0.9192\n",
       "bias=0.0219</title></rect><text fill=\"#1E1E1E\" font-family=\"monospace\" font-size=\"12\" text-anchor=\"middle\" x=\"406.0\" y=\"71.5\">is_defau..</text><text fill=\"#1E1E1E\" font-family=\"monospace\" font-size=\"10\" text-anchor=\"end\" x=\"449\" y=\"59.0\">5</text><text fill=\"#1E1E1E\" font-family=\"monospace\" font-size=\"10\" text-anchor=\"start\" x=\"363\" y=\"59.0\">out</text><line stroke=\"#1E1E1E\" x1=\"331\" x2=\"361\" y1=\"67.5\" y2=\"67.5\" /></svg></svg>"
      ],
      "text/plain": [
       "<IPython.core.display.HTML object>"
      ]
     },
     "metadata": {},
     "output_type": "display_data"
    }
   ],
   "source": [
    "updates = 20\n",
    "\n",
    "for _ in range(updates):\n",
    "    qgraph.fit(train, threads=6, sample_weights=sample_weights, criterion=\"aic\", n_samples=10000)\n",
    "    qlattice.update(qgraph.best())"
   ]
  },
  {
   "cell_type": "code",
   "execution_count": 11,
   "metadata": {},
   "outputs": [
    {
     "data": {
      "image/png": "[encoded data removed]",
      "text/plain": [
       "<Figure size 432x288 with 1 Axes>"
      ]
     },
     "metadata": {},
     "output_type": "display_data"
    }
   ],
   "source": [
    "qgraph[0].plot_roc_curve(train)\n",
    "qgraph[0].plot_roc_curve(test)"
   ]
  },
  {
   "cell_type": "code",
   "execution_count": 12,
   "metadata": {},
   "outputs": [
    {
     "data": {
      "image/png": "[encoded data removed]",
      "text/plain": [
       "<Figure size 432x288 with 2 Axes>"
      ]
     },
     "metadata": {},
     "output_type": "display_data"
    }
   ],
   "source": [
    "qgraph[0].plot_confusion_matrix(test)"
   ]
  },
  {
   "cell_type": "code",
   "execution_count": null,
   "metadata": {},
   "outputs": [],
   "source": []
  }
 ],
 "metadata": {
  "kernelspec": {
   "display_name": "Python 3",
   "language": "python",
   "name": "python3"
  },
  "language_info": {
   "codemirror_mode": {
    "name": "ipython",
    "version": 3
   },
   "file_extension": ".py",
   "mimetype": "text/x-python",
   "name": "python",
   "nbconvert_exporter": "python",
   "pygments_lexer": "ipython3",
   "version": "3.8.5"
  }
 },
 "nbformat": 4,
 "nbformat_minor": 4
}
